{
  "cells": [
    {
      "cell_type": "code",
      "execution_count": 3,
      "metadata": {
        "collapsed": true,
        "pycharm": {
          "is_executing": false
        }
      },
      "outputs": [],
      "source": "import multiprocessing\nimport time\n\ndef foo():\n    name \u003d multiprocessing.current_process().name\n    print (\"Starting %s \\n\" %name)\n    time.sleep(3)\n    print (\"Exiting %s \\n\" %name)\n    \nif __name__ \u003d\u003d \u0027__main__\u0027:\n    background_process \u003d multiprocessing.Process(name\u003d\u0027background_process\u0027,target\u003dfoo)\n    background_process.daemon \u003d True # no child process, exit when parent process exit\n    NO_background_process \u003d multiprocessing.Process(name\u003d\u0027NO_background_process\u0027,target\u003dfoo)\n    NO_background_process.daemon \u003d False\n    background_process.start()\n    NO_background_process.start()\n    # NO_background_process.terminate() # force terminate\n    \n# Starting NO_background_process\n# Exiting NO_background_process\n"
    },
    {
      "cell_type": "code",
      "execution_count": 6,
      "outputs": [],
      "source": "# Queue\nimport multiprocessing\nimport random\nimport time\n\nclass producer(multiprocessing.Process):\n    def __init__(self, queue):\n        multiprocessing.Process.__init__(self)\n        self.queue \u003d queue\n\n    def run(self) :\n        for i in range(10):\n            item \u003d random.randint(0, 256)\n            self.queue.put(item)\n            print (\"Process Producer : item %d appended to queue %s\"\\\n                   % (item,self.name))\n            time.sleep(1)\n            print (\"The size of queue is %s\"\\\n                   % self.queue.qsize())\n\nclass consumer(multiprocessing.Process):\n    def __init__(self, queue):\n        multiprocessing.Process.__init__(self)\n        self.queue \u003d queue\n\n    def run(self):\n        while True:\n            if (self.queue.empty()):\n                print(\"the queue is empty\")\n            else :\n                time.sleep(2)\n                item \u003d self.queue.get()\n                print (\u0027Process Consumer : item %d popped from by %s \\n\u0027\\\n                       % (item, self.name))\n                time.sleep(1)\n\n\nif __name__ \u003d\u003d \u0027__main__\u0027:\n        queue \u003d multiprocessing.Queue()\n        process_producer \u003d producer(queue)\n        process_consumer \u003d consumer(queue)\n        process_producer.start()\n        process_consumer.start()\n        process_producer.join()\n        process_consumer.join()\n",
      "metadata": {
        "pycharm": {
          "metadata": false,
          "name": "#%%\n",
          "is_executing": false
        }
      }
    },
    {
      "cell_type": "code",
      "execution_count": null,
      "outputs": [],
      "source": "# Pipes\nimport multiprocessing\n\ndef create_items(pipe):\n    output_pipe, _ \u003d pipe\n    for item in range(10):\n        output_pipe.send(item)\n    output_pipe.close()\n\ndef multiply_items(pipe_1, pipe_2):\n    close, input_pipe \u003d pipe_1\n    close.close()\n    output_pipe, _ \u003d pipe_2\n    try:\n        while True:\n            item \u003d input_pipe.recv()\n            output_pipe.send(item * item)\n    except EOFError:\n        output_pipe.close()\n\n\nif __name__\u003d\u003d \u0027__main__\u0027:\n\n    pipe_1 \u003d multiprocessing.Pipe(True)\n    process_pipe_1 \u003d multiprocessing.Process(target\u003dcreate_items, args\u003d(pipe_1,))\n    process_pipe_1.start()\n\n    pipe_2 \u003d multiprocessing.Pipe(True)\n    process_pipe_2 \u003dmultiprocessing.Process(target\u003dmultiply_items, args\u003d(pipe_1, pipe_2,))\n    process_pipe_2.start()\n\n    pipe_1[0].close()\n    pipe_2[0].close()\n\n    try:\n        while True:\n            print (pipe_2[1].recv())\n    except EOFError:\n        print (\"End\")\n",
      "metadata": {
        "pycharm": {
          "metadata": false,
          "name": "#%%\n",
          "is_executing": true
        }
      }
    },
    {
      "cell_type": "code",
      "execution_count": null,
      "outputs": [],
      "source": "# Process Pool\nimport multiprocessing\n\ndef function_square(data):\n    result \u003d data*data\n    return result\n\nif __name__ \u003d\u003d \u0027__main__\u0027:\n    inputs \u003d list(range(0,100))\n    pool \u003d multiprocessing.Pool(processes\u003d4)\n    pool_outputs \u003d pool.map(function_square, inputs)\n\n    pool.close() \n    pool.join()  \n    print (\u0027Pool    :\u0027, pool_outputs)\n",
      "metadata": {
        "pycharm": {
          "metadata": false,
          "name": "#%%\n"
        }
      }
    }
  ],
  "metadata": {
    "language_info": {
      "codemirror_mode": {
        "name": "ipython",
        "version": 2
      },
      "file_extension": ".py",
      "mimetype": "text/x-python",
      "name": "python",
      "nbconvert_exporter": "python",
      "pygments_lexer": "ipython2",
      "version": "2.7.6"
    },
    "kernelspec": {
      "name": "python3",
      "language": "python",
      "display_name": "Python 3"
    }
  },
  "nbformat": 4,
  "nbformat_minor": 0
}