{
  "cells": [
    {
      "cell_type": "code",
      "execution_count": 5,
      "metadata": {
        "collapsed": true,
        "pycharm": {
          "is_executing": false,
          "name": "#%%#%%\n"
        }
      },
      "outputs": [
        {
          "name": "stdout",
          "text": [
            "the value of shared variable with lock management is 0\nthe value of shared variable with race condition is 0\n"
          ],
          "output_type": "stream"
        }
      ],
      "source": "# Lock\nimport threading\nshared_resource_with_lock     \u003d 0\nshared_resource_with_no_lock     \u003d 0\nCOUNT \u003d 100000\nshared_resource_lock \u003d threading.Lock()\n\ndef increment_with_lock():\n    global shared_resource_with_lock\n    for i in range(COUNT):\n        shared_resource_lock.acquire()\n        shared_resource_with_lock +\u003d 1\n        shared_resource_lock.release()\n\ndef decrement_with_lock():\n    global shared_resource_with_lock\n    for i in range(COUNT):\n        shared_resource_lock.acquire()\n        shared_resource_with_lock -\u003d 1\n        shared_resource_lock.release()\n        \ndef increment_without_lock():\n    global shared_resource_with_no_lock\n    for i in range(COUNT):\n        shared_resource_with_no_lock +\u003d 1\n \ndef decrement_without_lock():\n    global shared_resource_with_no_lock\n    for i in range(COUNT):\n        shared_resource_with_no_lock -\u003d 1\n \nif __name__ \u003d\u003d \"__main__\":\n    ts\u003d[threading.Thread(target \u003d increment_with_lock),\n        threading.Thread(target \u003d decrement_with_lock),\n        threading.Thread(target \u003d increment_without_lock),\n        threading.Thread(target \u003d decrement_without_lock)]\n    for t in ts: t.start()\n    for t in ts: t.join()\n    print (\"the value of shared variable with lock management is %s\"%shared_resource_with_lock)\n    print (\"the value of shared variable with race condition is %s\"%shared_resource_with_no_lock)\n    \n"
    },
    {
      "cell_type": "code",
      "execution_count": 8,
      "outputs": [
        {
          "name": "stdout",
          "text": [
            "putting 5 items in the box \nadding 1 item in the box\n\nremoving 1 item in the box\n",
            "removing 1 item in the box\n",
            "removing 1 item in the box\n",
            "adding 1 item in the box\n\n",
            "removing 1 item in the box\n",
            "removing 1 item in the box\n",
            "adding 1 item in the box\n\n",
            "adding 1 item in the box\n\n",
            "adding 1 item in the box\n\n",
            "0 items still remain in the box \n"
          ],
          "output_type": "stream"
        }
      ],
      "source": "# RLock\nimport threading\nimport time\n\nclass Box(object):\n    lock \u003d threading.RLock()\n    def __init__(self):\n        self.total_items \u003d 0\n    def add(self):\n        Box.lock.acquire()\n        self.total_items+\u003d1\n        Box.lock.release()\n    def remove(self):\n        Box.lock.acquire()\n        self.total_items-\u003d1\n        Box.lock.release()\n\ndef adder(box,items):\n    while items \u003e 0:\n        print (\"adding 1 item in the box\\n\")\n        box.add()\n        time.sleep(3)\n        items -\u003d 1\n\ndef remover(box,items):\n    while items \u003e 0:\n        print (\"removing 1 item in the box\")\n        box.remove()\n        time.sleep(1)\n        items -\u003d 1\n\nif __name__ \u003d\u003d \"__main__\":\n    items \u003d 5\n    print (\"putting %s items in the box \" % items)\n    box \u003d Box()\n    ts\u003d[threading.Thread(target\u003dadder,args\u003d(box,items)),\n        threading.Thread(target\u003dremover,args\u003d(box,items))]\n    for t in ts: t.start()\n    for t in ts: t.join()\n    print (\"%s items still remain in the box \" % box.total_items)\n",
      "metadata": {
        "pycharm": {
          "metadata": false,
          "name": "#%%#%%\n",
          "is_executing": false
        }
      }
    },
    {
      "cell_type": "code",
      "execution_count": null,
      "outputs": [
        {
          "name": "stdout",
          "text": [
            "Producer notify : item N° 249 appended to queue by Thread-1502486 \n\nConsumer notify : 249 popped from queue by Thread-1502487\n",
            "Producer notify : item N° 64 appended to queue by Thread-1502486 \nConsumer notify : 64 popped from queue by Thread-1502487\n\n",
            "Producer notify : item N° 89 appended to queue by Thread-1502486 \nConsumer notify : 89 popped from queue by Thread-1502488\n\n",
            "Producer notify : item N° 160 appended to queue by Thread-1502486 \nConsumer notify : 160 popped from queue by Thread-1502487\n\n",
            "Producer notify : item N° 120 appended to queue by Thread-1502486 \nConsumer notify : 120 popped from queue by Thread-1502488\n\n",
            "Producer notify : item N° 172 appended to queue by Thread-1502486 \nConsumer notify : 172 popped from queue by Thread-1502487\n\n",
            "Producer notify : item N° 158 appended to queue by Thread-1502486 \nConsumer notify : 158 popped from queue by Thread-1502488\n\n",
            "Producer notify : item N° 176 appended to queue by Thread-1502486 \nConsumer notify : 176 popped from queue by Thread-1502487\n\n",
            "Producer notify : item N° 152 appended to queue by Thread-1502486 \nConsumer notify : 152 popped from queue by Thread-1502488\n\n",
            "Producer notify : item N° 210 appended to queue by Thread-1502486 \nConsumer notify : 210 popped from queue by Thread-1502487\n\n"
          ],
          "output_type": "stream"
        }
      ],
      "source": "# Queue\nfrom threading import Thread, Event\nfrom queue import Queue\nimport time\nimport random\n\nclass producer(Thread):\n    def __init__(self, queue):\n        Thread.__init__(self)\n        self.queue \u003d queue\n\n    def run(self) :\n        for i in range(10):\n            item \u003d random.randint(0, 256)\n            self.queue.put(item)\n            print (\u0027Producer notify : item N° %d appended to queue by %s \\n\u0027 % (item, self.name))\n            time.sleep(1)\n\nclass consumer(Thread):\n    def __init__(self, queue):\n        Thread.__init__(self)\n        self.queue \u003d queue\n\n    def run(self):\n        while True:\n            item \u003d self.queue.get()\n            print (\u0027Consumer notify : %d popped from queue by %s\u0027 % (item, self.name))\n            self.queue.task_done()\n\nif __name__ \u003d\u003d \u0027__main__\u0027:\n        queue \u003d Queue()\n        t1 \u003d producer(queue)\n        t2 \u003d consumer(queue)\n        t3 \u003d consumer(queue)\n        t1.start()\n        t2.start()\n        t3.start()\n        t1.join()\n        t2.join()\n        t3.join()",
      "metadata": {
        "pycharm": {
          "metadata": false,
          "name": "#%%\n",
          "is_executing": true
        }
      }
    },
    {
      "cell_type": "code",
      "execution_count": 9,
      "outputs": [
        {
          "name": "stdout",
          "text": [
            "consumer is waiting.\n",
            "producer notify : producted item number 345\nConsumer notify : consumed item number 345 \nconsumer is waiting.\n",
            "producer notify : producted item number 712\nConsumer notify : consumed item number 712 \nconsumer is waiting.\n",
            "producer notify : producted item number 388\nConsumer notify : consumed item number 388 \nconsumer is waiting.\n",
            "producer notify : producted item number 102\nConsumer notify : consumed item number 102 \nconsumer is waiting.\n",
            "producer notify : producted item number 106\nConsumer notify : consumed item number 106 \nprogram terminated\n"
          ],
          "output_type": "stream"
        }
      ],
      "source": "# Semaphore\nimport threading\nimport time\nimport random\n\n# The optional argument init value for the internal counter (defaults to 1)\n# If the value given is less than 0, ValueError is raised.\nsemaphore \u003d threading.Semaphore(0)\n\ndef consumer():\n    print (\"consumer is waiting.\")\n    semaphore.acquire()\n    print (\"Consumer notify : consumed item number %s \" %item)\n\ndef producer():\n    global item\n    time.sleep(10)\n    item \u003d random.randint(0,1000)\n    print (\"producer notify : producted item number %s\" %item)\n    semaphore.release()\n\nif __name__ \u003d\u003d \u0027__main__\u0027:\n    for i in range (0,5) :\n        t1 \u003d threading.Thread(target\u003dproducer)\n        t2 \u003d threading.Thread(target\u003dconsumer)\n        t1.start()\n        t2.start()\n        t1.join()\n        t2.join()\n    print (\"program terminated\")\n",
      "metadata": {
        "pycharm": {
          "metadata": false,
          "name": "#%%\n",
          "is_executing": false
        }
      }
    }
  ],
  "metadata": {
    "language_info": {
      "codemirror_mode": {
        "name": "ipython",
        "version": 2
      },
      "file_extension": ".py",
      "mimetype": "text/x-python",
      "name": "python",
      "nbconvert_exporter": "python",
      "pygments_lexer": "ipython2",
      "version": "2.7.6"
    },
    "kernelspec": {
      "name": "python3",
      "language": "python",
      "display_name": "Python 3"
    },
    "stem_cell": {
      "cell_type": "raw",
      "source": "",
      "metadata": {
        "pycharm": {
          "metadata": false
        }
      }
    }
  },
  "nbformat": 4,
  "nbformat_minor": 0
}