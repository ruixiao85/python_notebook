{
  "cells": [
    {
      "cell_type": "code",
      "execution_count": 1,
      "metadata": {
        "collapsed": true,
        "pycharm": {
          "is_executing": false
        }
      },
      "outputs": [
        {
          "traceback": [
            "\u001b[1;36m  File \u001b[1;32m\"\u003cipython-input-1-6c9d8736f5b5\u003e\"\u001b[1;36m, line \u001b[1;32m9\u001b[0m\n\u001b[1;33m    print a_doubled\u001b[0m\n\u001b[1;37m                  ^\u001b[0m\n\u001b[1;31mSyntaxError\u001b[0m\u001b[1;31m:\u001b[0m Missing parentheses in call to \u0027print\u0027. Did you mean print(a_doubled)?\n"
          ],
          "ename": "SyntaxError",
          "evalue": "Missing parentheses in call to \u0027print\u0027. Did you mean print(a_doubled)? (\u003cipython-input-1-6c9d8736f5b5\u003e, line 9)",
          "output_type": "error"
        }
      ],
      "source": "import pycuda.gpuarray as gpuarray\nimport pycuda.driver as cuda\nimport pycuda.autoinit\nimport numpy\n\na_gpu \u003d gpuarray.to_gpu(numpy.random.randn(5,5).astype(numpy.float32))\na_doubled \u003d (2*a_gpu).get()\nprint (\"ORIGINAL MATRIX\")\nprint( a_doubled)\nprint (\"DOUBLED MATRIX AFTER PyCUDA EXECUTION USING GPUARRAY CALL\")\nprint( a_gpu)\n"
    },
    {
      "cell_type": "code",
      "execution_count": 2,
      "outputs": [
        {
          "traceback": [
            "\u001b[1;36m  File \u001b[1;32m\"\u003cipython-input-2-dab13421c48c\u003e\"\u001b[1;36m, line \u001b[1;32m43\u001b[0m\n\u001b[1;33m    print \"-\" * 80\u001b[0m\n\u001b[1;37m            ^\u001b[0m\n\u001b[1;31mSyntaxError\u001b[0m\u001b[1;31m:\u001b[0m Missing parentheses in call to \u0027print\u0027. Did you mean print(\"-\" * 80)?\n"
          ],
          "ename": "SyntaxError",
          "evalue": "Missing parentheses in call to \u0027print\u0027. Did you mean print(\"-\" * 80)? (\u003cipython-input-2-dab13421c48c\u003e, line 43)",
          "output_type": "error"
        }
      ],
      "source": "import numpy as np\nfrom pycuda import driver, compiler, gpuarray, tools\n\nimport pycuda.autoinit\n\nkernel_code_template \u003d \"\"\"\n__global__ void MatrixMulKernel(float *a, float *b, float *c)\n{\n    int tx \u003d threadIdx.x;\n    int ty \u003d threadIdx.y;\n    float Pvalue \u003d 0;\n    for (int k \u003d 0; k \u003c %(MATRIX_SIZE)s; ++k) {\n        float Aelement \u003d a[ty * %(MATRIX_SIZE)s + k];\n        float Belement \u003d b[k * %(MATRIX_SIZE)s + tx];\n        Pvalue +\u003d Aelement * Belement;\n    }\n\n    c[ty * %(MATRIX_SIZE)s + tx] \u003d Pvalue;\n}\n\"\"\"\n\nMATRIX_SIZE \u003d 5\n\na_cpu \u003d np.random.randn(MATRIX_SIZE, MATRIX_SIZE).astype(np.float32)\nb_cpu \u003d np.random.randn(MATRIX_SIZE, MATRIX_SIZE).astype(np.float32)\n\nc_cpu \u003d np.dot(a_cpu, b_cpu)\n\na_gpu \u003d gpuarray.to_gpu(a_cpu) \nb_gpu \u003d gpuarray.to_gpu(b_cpu)\n\nc_gpu \u003d gpuarray.empty((MATRIX_SIZE, MATRIX_SIZE), np.float32)\n\nkernel_code \u003d kernel_code_template % {\u0027MATRIX_SIZE\u0027: MATRIX_SIZE}\n\nmod \u003d compiler.SourceModule(kernel_code)\n\nmatrixmul \u003d mod.get_function(\"MatrixMulKernel\")\n\nmatrixmul(a_gpu, b_gpu, c_gpu, block \u003d (MATRIX_SIZE, MATRIX_SIZE, 1),)\n\n# print the results\nprint(\"-\" * 80)\nprint(\"Matrix A (GPU):\")\nprint(a_gpu.get())\n\nprint(\"-\" * 80)\nprint(\"Matrix B (GPU):\")\nprint(b_gpu.get())\n\nprint(\"-\" * 80)\nprint(\"Matrix C (GPU):\")\nprint(c_gpu.get())\n\nprint(\"-\" * 80)\nprint(\"CPU-GPU difference:\")\nprint(c_cpu - c_gpu.get())\n\nnp.allclose(c_cpu, c_gpu.get())\n",
      "metadata": {
        "pycharm": {
          "metadata": false,
          "name": "#%%\n",
          "is_executing": false
        }
      }
    },
    {
      "cell_type": "code",
      "execution_count": null,
      "outputs": [],
      "source": "import pycuda.gpuarray as gpuarray\nimport pycuda.autoinit\nimport numpy\nfrom pycuda.reduction import ReductionKernel\n\nvector_length \u003d 400\n\ninput_vector_a \u003d gpuarray.arange(vector_length, dtype\u003dnumpy.int)\ninput_vector_b \u003d gpuarray.arange(vector_length, dtype\u003dnumpy.int)\ndot_product \u003d ReductionKernel(numpy.int,\n                       arguments\u003d\"int *x, int *y\",\n                       map_expr\u003d\"x[i]*y[i]\",\n                       reduce_expr\u003d\"a+b\", neutral\u003d\"0\")\n\ndot_product \u003d dot_product(input_vector_a, input_vector_b).get()\n\nprint(\"INPUT MATRIX A\")\nprint(input_vector_a)\n\nprint(\"INPUT MATRIX B\")\nprint(input_vector_b)\n\nprint(\"RESULT DOT PRODUCT OF A * B\")\nprint(dot_product)\n\n\n",
      "metadata": {
        "pycharm": {
          "metadata": false,
          "name": "#%%\n"
        }
      }
    }
  ],
  "metadata": {
    "language_info": {
      "codemirror_mode": {
        "name": "ipython",
        "version": 2
      },
      "file_extension": ".py",
      "mimetype": "text/x-python",
      "name": "python",
      "nbconvert_exporter": "python",
      "pygments_lexer": "ipython2",
      "version": "2.7.6"
    },
    "kernelspec": {
      "name": "python3",
      "language": "python",
      "display_name": "Python 3"
    }
  },
  "nbformat": 4,
  "nbformat_minor": 0
}